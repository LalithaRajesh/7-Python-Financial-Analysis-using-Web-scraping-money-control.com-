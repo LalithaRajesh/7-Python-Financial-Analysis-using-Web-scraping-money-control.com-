{
 "cells": [
  {
   "cell_type": "code",
   "execution_count": null,
   "metadata": {},
   "outputs": [],
   "source": [
    "import pandas as pd\n",
    "import urllib.request as urllib2\n",
    "from bs4 import BeautifulSoup"
   ]
  },
  {
   "cell_type": "code",
   "execution_count": null,
   "metadata": {},
   "outputs": [],
   "source": [
    "Equity=[]\n",
    "Sector=[]\n",
    "Qty=[]\n",
    "Value=[]\n",
    "Percentage=[]\n",
    "Funds_Name=[]\n",
    "\n",
    "Other=[]\n",
    "Other_Rating=[]\n",
    "Other_Value=[]\n",
    "Other_Percentage=[]\n",
    "\n",
    "\n",
    "Cash = []\n",
    "Cash_Rating=[]\n",
    "Cash_Value=[]\n",
    "Cash_Percentage=[]\n",
    "\n",
    "\n",
    "website=\"http://www.moneycontrol.com/mutual-funds/franklin-asian-equity-fund/portfolio-holdings/MTE182\"\n",
    "website1=\"http://www.moneycontrol.com/mutual-funds/aditya-birla-sun-life-midcap-fund/portfolio-holdings/MBS027\"              #Birla Midcap (New)\n",
    "website2=\"http://www.moneycontrol.com/mutual-funds/aditya-birla-sun-life-frontline-equity-fund/portfolio-holdings/MAC031\"    #Birla Sun Frontline Equity\n",
    "website3=\"http://www.moneycontrol.com/mutual-funds/aditya-birla-sun-life-midcap-fund/portfolio-holdings/MBS027\"              #Birla Sun Life MidCap Fund\n",
    "website4=\"http://www.moneycontrol.com/mutual-funds/aditya-birla-sun-life-special-situations-fund/portfolio-holdings/MBS251\"  #BL Special Situations Fund\n",
    "website5=\"http://www.moneycontrol.com/mutual-funds/aditya-birla-sun-life-mnc-fund/portfolio-holdings/MBS017\"                 #BSE MNC Fund\n",
    "website6=\"http://www.moneycontrol.com/mutual-funds/franklin-india-high-growth-companies-fund/portfolio-holdings/MTE117\"      #Franklin India High Growth\n",
    "website7=\"http://www.moneycontrol.com/mutual-funds/franklin-india-prima-fund/portfolio-holdings/MKP002\"                      #Franklin India Prima Fund\n",
    "website8=\"http://www.moneycontrol.com/mutual-funds/franklin-india-prima-plus-fund/portfolio-holdings/MKP003\"                 #Franklin Prima Plus\n",
    "website9=\"http://www.moneycontrol.com/mutual-funds/hdfc-equity-fund/portfolio-holdings/MZU001\"                               #HDFC Equity Fund\n",
    "website10=\"http://www.moneycontrol.com/mutual-funds/hdfc-mid-cap-opportunities-fund/portfolio-holdings/MHD068\"               #HDFC Mid-Cap Oppurtunities\n",
    "website11=\"http://www.moneycontrol.com/mutual-funds/hdfc-prudence-fund/portfolio-holdings/MZU004\"                                           #HDFC Prudence Fund\n",
    "website12=\"http://www.moneycontrol.com/mutual-funds/hdfc-prudence-fund/portfolio-holdings/MZU003\"                            #HDFC Prudence Fund (new)\n",
    "website13=\"http://www.moneycontrol.com/mutual-funds/aditya-birla-sun-life-global-real-estate-fund-retail-plan/portfolio-holdings/MIN168\"                      #ING Global Real Estate\n",
    "website14=\"http://www.moneycontrol.com/mutual-funds/reliance-top-200-fund-retail-plan/portfolio-holdings/MRC155\"             #Reliance Equity Adv Fund\n",
    "website15=\"http://www.moneycontrol.com/mutual-funds/reliance-growth-fund-retail-plan/portfolio-holdings/MRC008\"              #Reliance Growth Fund\n",
    "#website16=\"http://www.moneycontrol.com/mutual-funds/reliance-natural-resources-fund/portfolio-holdings/MRC272\"               #Reliance Natural Resources Fund\n",
    "website17=\"http://www.moneycontrol.com/mutual-funds/reliance-top-200-fund-retail-plan/portfolio-holdings/MRC155\"             #Reliance Top 200 Fund\n",
    "website18=\"http://www.moneycontrol.com/mutual-funds/templeton-india-equity-income-fund/portfolio-holdings/MTE092\"#Templeton India Equity\n",
    "website19=\"http://www.moneycontrol.com/mutual-funds/aditya-birla-sun-life-international-equity-fund-plan-a/portfolio-holdings/MBS203\"#BSE International Equity Plan A\n",
    "\n",
    "web=[website1,website2,website3,website4,website5,website6,website7,website8,website9,website10,website11,website12,website13,website14,website15,website17,website18,website19,website]\n",
    "for i in web:\n",
    "    page = urllib2.urlopen(i)\n",
    "    soup = BeautifulSoup(page)\n",
    "    all_tables=soup.find_all('table')\n",
    "    right_table=soup.find('table', class_='tblporhd')\n",
    "    right_table\n",
    "    for row in right_table.findAll(\"tr\"):\n",
    "        cells = row.findAll('td')\n",
    "        states=row.findAll('th') #To store second column data\n",
    "        if len(cells)==5: #Only extract table body not heading\n",
    "            Equity.append(cells[0].find(text=True))\n",
    "            Sector.append(cells[1].find(text=True))\n",
    "            Qty.append(cells[2].find(text=True))\n",
    "            Value.append(cells[3].find(text=True))\n",
    "            Percentage.append(cells[4].find(text=True))\n",
    "            Funds_Name.append(soup.h1.find(text=True))\n",
    "            print(soup.h1.find(text=True))\n",
    "        \n",
    "df=pd.DataFrame(Equity,columns=['Equity'])\n",
    "df['Sector']=Sector\n",
    "df['Qty']=Qty\n",
    "df['Value']=Value\n",
    "df['Percentage']=Percentage\n",
    "df['Funds_Name']=Funds_Name\n",
    "print(df)        \n",
    "# df.to_csv('fundss.csv')"
   ]
  },
  {
   "cell_type": "code",
   "execution_count": null,
   "metadata": {},
   "outputs": [],
   "source": [
    "website=\"http://www.moneycontrol.com/mutual-funds/franklin-asian-equity-fund/portfolio-holdings/MTE182\"\n",
    "website1=\"http://www.moneycontrol.com/mutual-funds/aditya-birla-sun-life-midcap-fund/portfolio-holdings/MBS027\"              #Birla Midcap (New)\n",
    "website2=\"http://www.moneycontrol.com/mutual-funds/aditya-birla-sun-life-frontline-equity-fund/portfolio-holdings/MAC031\"    #Birla Sun Frontline Equity\n",
    "website3=\"http://www.moneycontrol.com/mutual-funds/aditya-birla-sun-life-midcap-fund/portfolio-holdings/MBS027\"              #Birla Sun Life MidCap Fund\n",
    "website4=\"http://www.moneycontrol.com/mutual-funds/aditya-birla-sun-life-special-situations-fund/portfolio-holdings/MBS251\"  #BL Special Situations Fund\n",
    "website5=\"http://www.moneycontrol.com/mutual-funds/aditya-birla-sun-life-mnc-fund/portfolio-holdings/MBS017\"                 #BSE MNC Fund\n",
    "website6=\"http://www.moneycontrol.com/mutual-funds/franklin-india-high-growth-companies-fund/portfolio-holdings/MTE117\"      #Franklin India High Growth\n",
    "website7=\"http://www.moneycontrol.com/mutual-funds/franklin-india-prima-fund/portfolio-holdings/MKP002\"                      #Franklin India Prima Fund\n",
    "website8=\"http://www.moneycontrol.com/mutual-funds/franklin-india-prima-plus-fund/portfolio-holdings/MKP003\"                 #Franklin Prima Plus\n",
    "website9=\"http://www.moneycontrol.com/mutual-funds/hdfc-equity-fund/portfolio-holdings/MZU001\"                               #HDFC Equity Fund\n",
    "website10=\"http://www.moneycontrol.com/mutual-funds/hdfc-mid-cap-opportunities-fund/portfolio-holdings/MHD068\"               #HDFC Mid-Cap Oppurtunities\n",
    "website11=\"http://www.moneycontrol.com/mutual-funds/hdfc-prudence-fund/portfolio-holdings/MZU004\"                                           #HDFC Prudence Fund\n",
    "website12=\"http://www.moneycontrol.com/mutual-funds/hdfc-prudence-fund/portfolio-holdings/MZU003\"                            #HDFC Prudence Fund (new)\n",
    "website13=\"http://www.moneycontrol.com/mutual-funds/aditya-birla-sun-life-global-real-estate-fund-retail-plan/portfolio-holdings/MIN168\"                      #ING Global Real Estate\n",
    "website14=\"http://www.moneycontrol.com/mutual-funds/reliance-top-200-fund-retail-plan/portfolio-holdings/MRC155\"             #Reliance Equity Adv Fund\n",
    "website15=\"http://www.moneycontrol.com/mutual-funds/reliance-growth-fund-retail-plan/portfolio-holdings/MRC008\"              #Reliance Growth Fund\n",
    "# website16=\"http://www.moneycontrol.com/mutual-funds/reliance-natural-resources-fund/portfolio-holdings/MRC272\"               #Reliance Natural Resources Fund\n",
    "website17=\"http://www.moneycontrol.com/mutual-funds/reliance-top-200-fund-retail-plan/portfolio-holdings/MRC155\"             #Reliance Top 200 Fund\n",
    "website18=\"http://www.moneycontrol.com/mutual-funds/templeton-india-equity-income-fund/portfolio-holdings/MTE092\"#Templeton India Equity\n",
    "website19=\"http://www.moneycontrol.com/mutual-funds/aditya-birla-sun-life-international-equity-fund-plan-a/portfolio-holdings/MBS203\"#BSE International Equity Plan A\n",
    "\n",
    "web=[website1,website2,website3,website4,website5,website6,website7,website8,website9,website10,website11,website12,website13,website14,website15,website17,website18,website19,website]"
   ]
  },
  {
   "cell_type": "code",
   "execution_count": null,
   "metadata": {},
   "outputs": [],
   "source": [
    "# website18=\"http://www.moneycontrol.com/mutual-funds/templeton-india-equity-income-fund/portfolio-holdings/MTE092\"#Templeton India Equity\n",
    "\n",
    "Other=[]\n",
    "Other_Rating=[]\n",
    "Other_Value=[]\n",
    "Other_Percentage=[]\n",
    "Other_Funds_Name=[]\n",
    "\n",
    "\n",
    "Cash = []\n",
    "Cash_Rating=[]\n",
    "Cash_Value=[]\n",
    "Cash_Percentage=[]\n",
    "\n",
    "\n",
    "# web=[website18]\n",
    "for i in web:\n",
    "    page = urllib2.urlopen(i)\n",
    "    soup = BeautifulSoup(page)\n",
    "    all_tables=soup.find_all('table')\n",
    "    other_table=soup.find('table', class_='tblporhd MT25')\n",
    "    other_table\n",
    "    for row in other_table.findAll(\"tr\"):\n",
    "        cells = row.findAll('td')\n",
    "        states=row.findAll('th') #To store second column data\n",
    "        if len(cells)==4: #Only extract table body not heading\n",
    "            Other.append(cells[0].find(text=True))\n",
    "            Other_Rating.append(cells[1].find(text=True))\n",
    "            Other_Value.append(cells[2].find(text=True))\n",
    "            Other_Percentage.append(cells[3].find(text=True))\n",
    "            Other_Funds_Name.append(soup.h1.find(text=True))\n",
    "            \n",
    "            \n",
    "df_other=pd.DataFrame(Other,columns=['Other'])\n",
    "df_other['Other_Rating']=Other_Rating\n",
    "df_other['Other_Value']=Other_Value\n",
    "df_other['Other_Percentage']=Other_Percentage\n",
    "df_other['Other_Funds_Name']=Other_Funds_Name\n",
    "df_other"
   ]
  },
  {
   "cell_type": "code",
   "execution_count": null,
   "metadata": {},
   "outputs": [],
   "source": [
    "Other=[]\n",
    "Other_Rating=[]\n",
    "Other_Value=[]\n",
    "Other_Percentage=[]\n",
    "Other_Funds_Name=[]\n",
    "\n",
    "\n",
    "Cash = []\n",
    "Cash_Rating=[]\n",
    "Cash_Value=[]\n",
    "Cash_Percentage=[]\n",
    "Cash_Funds_Name=[]\n",
    "\n",
    "for i in web:\n",
    "    page = urllib2.urlopen(i)\n",
    "    soup = BeautifulSoup(page)\n",
    "    all_tables=soup.find_all('table')\n",
    "    cash_table=soup.find_all('table', class_='tblporhd MT25')\n",
    "#     print(cash_table)\n",
    "    if(len(cash_table)==2 ):\n",
    "        for row in cash_table[1].findAll(\"tr\"):\n",
    "            cells = row.findAll('td')\n",
    "            states=row.findAll('th') #To store second column data\n",
    "    #         print(states)\n",
    "            if len(cells)==4: #Only extract table body not heading\n",
    "                Cash.append(cells[0].find(text=True))\n",
    "                Cash_Rating.append(cells[1].find(text=True))\n",
    "                Cash_Value.append(cells[2].find(text=True))\n",
    "                Cash_Percentage.append(cells[3].find(text=True))\n",
    "                Cash_Funds_Name.append(soup.h1.find(text=True))\n",
    "\n",
    "                \n",
    "df_cash=pd.DataFrame(Cash,columns=['Cash'])\n",
    "df_cash['Cash_Rating']=Cash_Rating\n",
    "df_cash['Cash_Value']=Cash_Value\n",
    "df_cash['Cash_Percentage']=Cash_Percentage\n",
    "df_cash['Cash_Funds_Name']=Cash_Funds_Name\n",
    "df_cash"
   ]
  },
  {
   "cell_type": "code",
   "execution_count": null,
   "metadata": {},
   "outputs": [],
   "source": [
    "df.dtypes"
   ]
  },
  {
   "cell_type": "code",
   "execution_count": null,
   "metadata": {},
   "outputs": [],
   "source": [
    "df.groupby('Funds_Name')['Funds_Name'].count().sort_values()"
   ]
  },
  {
   "cell_type": "code",
   "execution_count": null,
   "metadata": {},
   "outputs": [],
   "source": [
    "df"
   ]
  },
  {
   "cell_type": "code",
   "execution_count": null,
   "metadata": {},
   "outputs": [],
   "source": [
    "df_other"
   ]
  },
  {
   "cell_type": "code",
   "execution_count": null,
   "metadata": {},
   "outputs": [],
   "source": [
    "df_cash"
   ]
  },
  {
   "cell_type": "code",
   "execution_count": null,
   "metadata": {},
   "outputs": [],
   "source": [
    "df_cash.dtypes"
   ]
  },
  {
   "cell_type": "code",
   "execution_count": null,
   "metadata": {},
   "outputs": [],
   "source": [
    "df_cash['Cash_Value'] = df_cash['Cash_Value'].str.replace(',','').astype('float')"
   ]
  },
  {
   "cell_type": "code",
   "execution_count": null,
   "metadata": {},
   "outputs": [],
   "source": [
    "df_cash.groupby('Cash_Funds_Name')['Cash_Value'].sum()"
   ]
  },
  {
   "cell_type": "code",
   "execution_count": null,
   "metadata": {},
   "outputs": [],
   "source": [
    "import pandas as pd\n",
    "import urllib.request as urllib2\n",
    "from bs4 import BeautifulSoup\n",
    "import warnings\n",
    "warnings.simplefilter(\"ignore\", UserWarning)"
   ]
  },
  {
   "cell_type": "code",
   "execution_count": null,
   "metadata": {},
   "outputs": [],
   "source": [
    "URL = \"http://www.moneycontrol.com/mutual-funds/performance-tracker/ranks/diversified-equity-2.html\"\n",
    "page = urllib2.urlopen(URL)"
   ]
  },
  {
   "cell_type": "code",
   "execution_count": null,
   "metadata": {
    "scrolled": true
   },
   "outputs": [],
   "source": [
    "soup = BeautifulSoup(page)\n",
    "soup.title"
   ]
  },
  {
   "cell_type": "code",
   "execution_count": null,
   "metadata": {},
   "outputs": [],
   "source": [
    "all_tables=soup.find_all('table')\n",
    "right_table=soup.find('table', class_='gry_t thdata')\n",
    "right_table"
   ]
  },
  {
   "cell_type": "code",
   "execution_count": null,
   "metadata": {},
   "outputs": [],
   "source": [
    "cols = []\n",
    "for row in right_table.find_all('th'):\n",
    "    #print(row.text)\n",
    "    cols.append(row.text.strip())\n",
    "    \n",
    "#print(cols)\n",
    "fund_performance = pd.DataFrame(columns= cols)\n",
    "print(fund_performance)\n",
    "\n",
    "i = 0\n",
    "rows = []\n",
    "for row in right_table.find_all('tr'):\n",
    "    if(len(row) == 23):\n",
    "        row = row.text.replace('\\t','').split('\\n')[1:11]\n",
    "        row = list(map(str.strip, row))\n",
    "        rowdict = {}\n",
    "        for i, cell in enumerate(row):\n",
    "            rowdict[cols[i]] = cell\n",
    "        fund_performance =  fund_performance.append(pd.Series(rowdict), ignore_index= True)  \n",
    "\n",
    "fund_performance"
   ]
  },
  {
   "cell_type": "code",
   "execution_count": null,
   "metadata": {},
   "outputs": [],
   "source": [
    "fund_performance=fund_performance.drop(fund_performance.index[:2])\n",
    "fund_performance=fund_performance.dropna(axis=1, how='all')"
   ]
  },
  {
   "cell_type": "code",
   "execution_count": null,
   "metadata": {},
   "outputs": [],
   "source": [
    "fund_performance.reset_index(drop=True)"
   ]
  },
  {
   "cell_type": "code",
   "execution_count": null,
   "metadata": {},
   "outputs": [],
   "source": [
    "Fund_Type = []\n",
    "Investment_Plan=[]\n",
    "Launch_date=[]\n",
    "Benchmark=[]\n",
    "Asset_Size=[]\n",
    "Minimum_Investment=[]\n",
    "Fund_Manager = []\n",
    "Exit_Load=[]\n",
    "Email=[]\n",
    "Website=[]\n",
    "Fund_Name=[]\n",
    "\n",
    "\n",
    "website=\"http://www.moneycontrol.com/mutual-funds/tata-equity-p-e-fund-regular-plan/investment-info/MTA125\"\n",
    "website1=\"http://www.moneycontrol.com/mutual-funds/hdfc-small-cap-fund/investment-info/MMS002\" \n",
    "website2=\"http://www.moneycontrol.com/mutual-funds/hdfc-small-cap-fund-direct-plan/investment-info/MMS025\"\n",
    "website3=\"http://www.moneycontrol.com/mutual-funds/principal-growth-fund-direct-plan/investment-info/MID309\"               \n",
    "website4=\"http://www.moneycontrol.com/mutual-funds/sundaram-rural-india-fund/investment-info/MSN097\"  \n",
    "         \n",
    "\n",
    "web=[website,website1,website2,website3,website4]\n",
    "\n",
    "for i in web:\n",
    "    page = urllib2.urlopen(i)\n",
    "    soup = BeautifulSoup(page)\n",
    "    table = soup.find_all(\"div\")\n",
    "    right_table2 = soup.find_all('div', class_='FL w150')\n",
    "    right_table3 = soup.find_all('div', class_='FL w250')\n",
    "    head= soup.find('h1')\n",
    "    Fund_Name.append(head.find(text=True))\n",
    "#     print(right_table2[0].find(text=True),right_table3[0].find(text=True))\n",
    "#     print(right_table2[1].find(text=True),right_table3[1].find(text=True))\n",
    "    if(right_table2[0].find(text=True)==\"Fund Type\"):\n",
    "        Fund_Type.append(right_table3[0].find(text=True))\n",
    "    \n",
    "    if(right_table2[1].find(text=True)==\"Investment Plan\"):\n",
    "        Investment_Plan.append(right_table3[1].find(text=True))\n",
    "    if(right_table2[2].find(text=True)==\"Launch_date\"):\n",
    "        Launch_date.append(right_table3[2].find(text=True))\n",
    "    if(right_table2[3].find(text=True)==\"Benchmark\"):\n",
    "        Benchmark.append(right_table3[3].find(text=True))\n",
    "    if(right_table2[4].find(text=True)==\"Asset_Size\"):\n",
    "        Asset_Size.append(right_table3[4].find(text=True))\n",
    "    if(right_table2[5].find(text=True)==\"Minimum_Investment\"):\n",
    "        Minimum_Investment.append(right_table3[5].find(text=True))\n",
    "    if(right_table2[8].find(text=True)==\"Fund_Manager\"):\n",
    "        Fund_Manager.append(right_table3[8].find(text=True))\n",
    "list1 = pd.DataFrame({\"Fund_Name\":Fund_Name,\"Fund_type\":Fund_Type,\"Investment_Plan\":Investment_Plan,\"Launch_date\": Launch_date,\"Benchmark\": Benchmark,\"Asset_Size\": Asset_Size, \"Minimum_Investment\":Minimum_Investment,\"Fund_Manager\":Fund_Manager})\n",
    "list1        \n",
    "   \n",
    "   \n",
    "    \n",
    "# #     for i_1 in right_table3:\n",
    "#         right.append(i_1.find(text=True))\n",
    "#         head= soup.find('h1')\n",
    "#         name.append(head.find(text=True))\n",
    "#         list1=pd.DataFrame({right:left})\n",
    "# list1\n",
    "    \n",
    "    \n",
    "#   \n",
    "#     for row in right_table2:\n",
    "#         Fund_Type.append(cells[0].find(text=True))\n",
    "            \n",
    "        \n",
    "#         if len(cells)== 7: #Only extract table body not heading\n",
    "#             Fund_Type.append(cells[0].find(text=True))\n",
    "#             Investment_Plan.append(cells[1].find(text=True))\n",
    "#             Launch_date(cells[2].find(text=True))\n",
    "#             Benchmark(cells[3].find(text=True))\n",
    "#             Asset_Size.append(cells[4].find(text=True))\n",
    "#             Minimum_Investment.append(cells[5].find(text=True))\n",
    "#             Fund_Manager.append(cells[6].find(text=True))\n",
    "#             Fund_Name.append(soup.h1.find(text=True))\n",
    "            \n",
    "# #import pandas to convert list to data frame\n",
    "# import pandas as pd\n",
    "# df =pd.DataFrame(Fund_Name,columns=['Fund_Name'])\n",
    "# df['Fund_Type']= Fund_Type\n",
    "# df['Investment_Plan']= Investment_Plan\n",
    "# df['Launch_date']= Launch_date\n",
    "# df['Benchmark']= Benchmark\n",
    "# df['Asset_Size']= Asset_Size\n",
    "# df['Minimum_Investment']= Minimum_Investment\n",
    "# df['Fund_Manager']= Fund_Manager\n",
    "# df"
   ]
  },
  {
   "cell_type": "code",
   "execution_count": null,
   "metadata": {
    "scrolled": true
   },
   "outputs": [],
   "source": [
    "from collections import defaultdict\n",
    "import requests\n",
    "from furl import furl\n",
    "from bs4 import BeautifulSoup\n",
    "from urllib.parse import urlparse, parse_qs\n",
    "import pandas as pd\n",
    "import urllib.request as urllib2\n",
    "\n",
    "website=\"http://www.moneycontrol.com/mutual-funds/tata-equity-p-e-fund-regular-plan/investment-info/MTA125\"\n",
    "#website1=\"http://www.moneycontrol.com/mutual-funds/hdfc-small-cap-fund/investment-info/MMS002\" \n",
    "#website2=\"http://www.moneycontrol.com/mutual-funds/hdfc-small-cap-fund-direct-plan/investment-info/MMS025\"\n",
    "#website3=\"http://www.moneycontrol.com/mutual-funds/principal-growth-fund-direct-plan/investment-info/MID309\"               \n",
    "#website4=\"http://www.moneycontrol.com/mutual-funds/sundaram-rural-india-fund/investment-info/MSN097\"  \n",
    "\n",
    "#Build an Empty dataframe with columns\n",
    "cols = []\n",
    "cols.extend(['fundname','fundid','nav','crisilrank','riskometer','investmentoverview'])\n",
    "for i in web[:1]:\n",
    "    page = urllib2.urlopen(i)\n",
    "    soup = BeautifulSoup(page)\n",
    "    schemedetailscols = soup.select('#mmcnt > div.mainCont > div.w410.FL > div.PT20.PB25 > div.w410 .w150 > strong')\n",
    "    for c in schemedetailscols:\n",
    "        #print(c.text)\n",
    "        cols.append(c.text)\n",
    "    loaddetailscols = soup.select('#mmcnt > div.mainCont > div.w410.FL > div.PT20.PB25 > div.MT35.w340 .w130 > strong')\n",
    "    for c in loaddetailscols:\n",
    "        cols.append(c.text)\n",
    "    \n",
    "#print(cols)\n",
    "fund_info = pd.DataFrame(columns= cols)\n",
    "print(fund_info)\n",
    "\n",
    "# Build a Dictionary of column values [column_name] = column_value\n",
    "\n",
    "infodict = {}\n",
    "for i in web[:1]:\n",
    "    page = urllib2.urlopen(i)\n",
    "    soup = BeautifulSoup(page)\n",
    "    h1fundname = soup.select('newMFpg > div.header > div:nth-child(1) > div:nth-child(1) > h1')[0].text\n",
    "    \n",
    "    url = 'http://www.moneycontrol.com/mutual-funds/sundaram-rural-india-fund/investment-info/MSN097'\n",
    "    #'http://www.moneycontrol.com/mutual-funds/tata-equity-p-e-fund-regular-plan/investment-info/MTA125'\n",
    "    url.rsplit('/',1)\n",
    "    value = url.rsplit('/',1)[1]\n",
    "    \n",
    "    nav_info = soup.select('#newMFpg > div.header > div.MT10 > div.toplft_cl1 > div  > span.bd30tp')\n",
    "    nav_value = nav_info[0].get_text()\n",
    "\n",
    "    crisil_Rank = soup.select(\"#newMFpg > div.header > div.MT10 > div.toplft_cl2\")\n",
    "    \n",
    "    infodict['fundname'] = h1fundname\n",
    "    infodict['fundid'] = value\n",
    "    infodict['nav'] = nav_value\n",
    "    \n",
    "    \n",
    "    divtags = soup.select('#mmcnt > div.mainCont > div.w410.FL > div.PT20.PB25 > div.w410 div.PL10')\n",
    "    for tag in divtags:\n",
    "        infodict[tag.select('.w150')[0].text] = tag.select('.w250')[0].text\n",
    "\n",
    "    \n",
    "print(infodict)\n"
   ]
  },
  {
   "cell_type": "code",
   "execution_count": null,
   "metadata": {},
   "outputs": [],
   "source": [
    "nav_info = soup.select('#newMFpg > div.header > div.MT10 > div.toplft_cl1 > div')\n",
    "nav_info"
   ]
  },
  {
   "cell_type": "code",
   "execution_count": null,
   "metadata": {},
   "outputs": [],
   "source": [
    "crisil_Rank = soup.select(\"#newMFpg > div.header > div.MT10 > div.toplft_cl2\")\n",
    "crisil_Rank"
   ]
  },
  {
   "cell_type": "code",
   "execution_count": null,
   "metadata": {},
   "outputs": [],
   "source": [
    "crisil_Rank = soup.select(\"#newMFpg > div.header > div.MT10 > div.toplft_cl2 > span.starO > span.starO > span.starO > span.starO > span.starO\")\n",
    "crisil_Rank"
   ]
  },
  {
   "cell_type": "code",
   "execution_count": null,
   "metadata": {},
   "outputs": [],
   "source": [
    "nav_info = soup.select('#newMFpg > div.header > div.MT10 > div.toplft_cl1 > div  > span.bd30tp')\n",
    "nav_info[0].get_text()\n"
   ]
  },
  {
   "cell_type": "code",
   "execution_count": null,
   "metadata": {},
   "outputs": [],
   "source": [
    "for i in web:\n",
    "    page = urllib2.urlopen(i)\n",
    "    soup = BeautifulSoup(page)\n",
    "    right_table1 = soup.find_all('div', class_='FL w150')\n",
    "    print(right_table1)\n",
    "    continue\n",
    "    right_table2 = soup.find_all('div', class_='FL w250')\n",
    "\n",
    "    \n",
    "    data=defaultdict(list)\n",
    "    for tile in right_table1:\n",
    "    #the \"tile\" value in g_data contains what you are looking for...\n",
    "    #find the product titles\n",
    "        try:\n",
    "            Fund_type = tile.find(\"Fund Type\")\n",
    "            Investment_Plan = tile.find(\"Investment Plan\")\n",
    "            for tile1 in right_table2:\n",
    "                data[\"Fund Type\"].append(right_table2[0].find(text=True))\n",
    "                data[\"Investment Plan\"].append(right_table2[1].find(text=True))\n",
    "        except:\n",
    "            data['Fund type'].append(\"\")\n",
    "            data['Investment Plan'].append(\"\")\n",
    "        \n",
    "df = pd.DataFrame(data) "
   ]
  },
  {
   "cell_type": "code",
   "execution_count": null,
   "metadata": {},
   "outputs": [],
   "source": [
    "df"
   ]
  },
  {
   "cell_type": "code",
   "execution_count": null,
   "metadata": {},
   "outputs": [],
   "source": [
    "website=\"http://www.moneycontrol.com/mutual-funds/tata-equity-p-e-fund-regular-plan/investment-info/MTA125\"\n",
    "website1=\"http://www.moneycontrol.com/mutual-funds/hdfc-small-cap-fund/investment-info/MMS002\" \n",
    "website2=\"http://www.moneycontrol.com/mutual-funds/hdfc-small-cap-fund-direct-plan/investment-info/MMS025\"\n",
    "website3=\"http://www.moneycontrol.com/mutual-funds/principal-growth-fund-direct-plan/investment-info/MID309\"               \n",
    "website4=\"http://www.moneycontrol.com/mutual-funds/sundaram-rural-india-fund/investment-info/MSN097\" \n",
    "\n",
    "web=[website,website1,website2,website3,website4]\n",
    "value_1 = []\n",
    "for i in web[:5]:\n",
    "    #url = 'http://www.moneycontrol.com/mutual-funds/tata-equity-p-e-fund-regular-plan/investment-info/MTA125'\n",
    "    web.rsplit('/',1)\n",
    "    value = url.rsplit('/',1)[1]\n",
    "    value_1.append(value)"
   ]
  },
  {
   "cell_type": "code",
   "execution_count": null,
   "metadata": {},
   "outputs": [],
   "source": []
  }
 ],
 "metadata": {
  "kernelspec": {
   "display_name": "Python 3",
   "language": "python",
   "name": "python3"
  },
  "language_info": {
   "codemirror_mode": {
    "name": "ipython",
    "version": 3
   },
   "file_extension": ".py",
   "mimetype": "text/x-python",
   "name": "python",
   "nbconvert_exporter": "python",
   "pygments_lexer": "ipython3",
   "version": "3.6.3"
  }
 },
 "nbformat": 4,
 "nbformat_minor": 2
}
